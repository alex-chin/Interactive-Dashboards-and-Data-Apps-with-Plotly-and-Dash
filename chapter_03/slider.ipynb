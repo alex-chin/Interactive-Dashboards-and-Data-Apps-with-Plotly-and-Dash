{
 "cells": [
  {
   "cell_type": "code",
   "id": "initial_id",
   "metadata": {
    "collapsed": true,
    "ExecuteTime": {
     "end_time": "2024-11-20T14:47:59.286472Z",
     "start_time": "2024-11-20T14:47:59.123392Z"
    }
   },
   "source": [
    "from dash import Dash\n",
    "from dash import dcc\n",
    "from dash import html\n",
    "from dash.dependencies import Output, Input\n",
    "\n",
    "app = Dash(__name__)\n",
    "\n",
    "app.layout = html.Div([\n",
    "\n",
    "    dcc.Slider(2000,2019, step=None,id='year_slider', value=2000, marks={year: str(year) + 'г' for year in range(2000, 2020)}),\n",
    "    dcc.Slider(0, 10, step=None, marks={\n",
    "        0: '0°F',\n",
    "        3: '3°F',\n",
    "        5: '5°F',\n",
    "        7.65: '7.65°F',\n",
    "        10: '10°F'\n",
    "    }, vertical=True,\n",
    "               value=0, verticalHeight=150)\n",
    "])\n",
    "\n",
    "app.run_server(debug=True)"
   ],
   "outputs": [
    {
     "data": {
      "text/plain": [
       "<IPython.lib.display.IFrame at 0x1802164b050>"
      ],
      "text/html": [
       "\n",
       "        <iframe\n",
       "            width=\"100%\"\n",
       "            height=\"650\"\n",
       "            src=\"http://127.0.0.1:8050/\"\n",
       "            frameborder=\"0\"\n",
       "            allowfullscreen\n",
       "            \n",
       "        ></iframe>\n",
       "        "
      ]
     },
     "metadata": {},
     "output_type": "display_data"
    }
   ],
   "execution_count": 11
  },
  {
   "metadata": {},
   "cell_type": "code",
   "outputs": [],
   "execution_count": null,
   "source": "",
   "id": "29bba81edba8fa0"
  }
 ],
 "metadata": {
  "kernelspec": {
   "display_name": "Python 3",
   "language": "python",
   "name": "python3"
  },
  "language_info": {
   "codemirror_mode": {
    "name": "ipython",
    "version": 2
   },
   "file_extension": ".py",
   "mimetype": "text/x-python",
   "name": "python",
   "nbconvert_exporter": "python",
   "pygments_lexer": "ipython2",
   "version": "2.7.6"
  }
 },
 "nbformat": 4,
 "nbformat_minor": 5
}
