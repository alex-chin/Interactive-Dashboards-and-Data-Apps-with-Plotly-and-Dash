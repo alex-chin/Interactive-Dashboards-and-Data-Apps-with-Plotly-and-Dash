{
 "cells": [
  {
   "cell_type": "code",
   "id": "initial_id",
   "metadata": {
    "collapsed": true,
    "ExecuteTime": {
     "end_time": "2024-11-20T11:56:21.074537Z",
     "start_time": "2024-11-20T11:56:20.500696Z"
    }
   },
   "source": [
    "from dash import Dash\n",
    "from dash import dcc\n",
    "from dash import html\n",
    "from dash.dependencies import Output, Input\n",
    "\n",
    "app = Dash(__name__)\n",
    "\n",
    "app.layout = html.Div([\n",
    "\n",
    "    dcc.Slider(id='year_slider', value=2000, marks={year: str(year) for year in range(2000, 2019)}),\n",
    "    # dcc.Dropdown(id='year_dropdown', value='2010',\n",
    "    #              options=[{'label': year, 'value': str(year)} for year in range(1974, 2019)]),\n",
    "\n",
    "    dcc.Graph(id='population_chart'),\n",
    "])\n",
    "\n",
    "app.run_server(debug=True)"
   ],
   "outputs": [
    {
     "data": {
      "text/plain": [
       "<IPython.lib.display.IFrame at 0x1a1740475d0>"
      ],
      "text/html": [
       "\n",
       "        <iframe\n",
       "            width=\"100%\"\n",
       "            height=\"650\"\n",
       "            src=\"http://127.0.0.1:8050/\"\n",
       "            frameborder=\"0\"\n",
       "            allowfullscreen\n",
       "            \n",
       "        ></iframe>\n",
       "        "
      ]
     },
     "metadata": {},
     "output_type": "display_data"
    }
   ],
   "execution_count": 5
  },
  {
   "metadata": {},
   "cell_type": "code",
   "outputs": [],
   "execution_count": null,
   "source": "",
   "id": "29bba81edba8fa0"
  }
 ],
 "metadata": {
  "kernelspec": {
   "display_name": "Python 3",
   "language": "python",
   "name": "python3"
  },
  "language_info": {
   "codemirror_mode": {
    "name": "ipython",
    "version": 2
   },
   "file_extension": ".py",
   "mimetype": "text/x-python",
   "name": "python",
   "nbconvert_exporter": "python",
   "pygments_lexer": "ipython2",
   "version": "2.7.6"
  }
 },
 "nbformat": 4,
 "nbformat_minor": 5
}
